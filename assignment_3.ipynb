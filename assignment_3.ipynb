{
  "nbformat": 4,
  "nbformat_minor": 0,
  "metadata": {
    "colab": {
      "name": "assignment_3.ipynb",
      "provenance": [],
      "collapsed_sections": [],
      "authorship_tag": "ABX9TyM+r6+SeJAayzGT5jPOqHIb",
      "include_colab_link": true
    },
    "kernelspec": {
      "name": "python3",
      "display_name": "Python 3"
    }
  },
  "cells": [
    {
      "cell_type": "markdown",
      "metadata": {
        "id": "view-in-github",
        "colab_type": "text"
      },
      "source": [
        "<a href=\"https://colab.research.google.com/github/kamalchibrani-ai/assignment3_ineuron/blob/master/assignment_3.ipynb\" target=\"_parent\"><img src=\"https://colab.research.google.com/assets/colab-badge.svg\" alt=\"Open In Colab\"/></a>"
      ]
    },
    {
      "cell_type": "markdown",
      "metadata": {
        "id": "glQX-ioWSDYk",
        "colab_type": "text"
      },
      "source": [
        "# 1.1\n",
        " Write a Python Program to implement your own myreduce() function which works exactly\n",
        "like Python's built-in function reduce()"
      ]
    },
    {
      "cell_type": "markdown",
      "metadata": {
        "id": "ti-q9bCNV7sK",
        "colab_type": "text"
      },
      "source": [
        "solution"
      ]
    },
    {
      "cell_type": "code",
      "metadata": {
        "id": "Hl813jI4wKzO",
        "colab_type": "code",
        "colab": {}
      },
      "source": [
        "def add(a , b):\n",
        "  return a + b\n",
        "\n",
        "ls = [1,2,3,4,5]\n"
      ],
      "execution_count": 0,
      "outputs": []
    },
    {
      "cell_type": "code",
      "metadata": {
        "id": "F53Eud0Lvk-2",
        "colab_type": "code",
        "outputId": "b635d6b1-97fd-4f4e-a0f6-163dca4b94c6",
        "colab": {
          "base_uri": "https://localhost:8080/",
          "height": 35
        }
      },
      "source": [
        "def my_reduce(func , seq):\n",
        "  first = seq[0]\n",
        "  for i in seq[1:]:\n",
        "    first = func(first , i)\n",
        "  return first\n",
        "\n",
        "print(my_reduce(add,ls))"
      ],
      "execution_count": 21,
      "outputs": [
        {
          "output_type": "stream",
          "text": [
            "15\n"
          ],
          "name": "stdout"
        }
      ]
    },
    {
      "cell_type": "markdown",
      "metadata": {
        "id": "DYg2wHpRWX_L",
        "colab_type": "text"
      },
      "source": [
        "# 1.2 \n",
        "Write a Python program to implement your own myfilter() function which works exactly like Python's built-in function filter()"
      ]
    },
    {
      "cell_type": "code",
      "metadata": {
        "id": "c-_GSywgWVzN",
        "colab_type": "code",
        "colab": {
          "base_uri": "https://localhost:8080/",
          "height": 35
        },
        "outputId": "3b92d11c-f9de-49b1-e01b-2ab835cc86b0"
      },
      "source": [
        "def myfilter(function, lst):\n",
        "    result = []\n",
        "    \n",
        "    for i in lst:\n",
        "      if function(i):\n",
        "        result.append(i)            \n",
        "    return result\n",
        "\n",
        "def even_check(num):\n",
        "    if num % 2 == 0:\n",
        "        return True\n",
        "        \n",
        "# Sample list   \n",
        "a = [2,3,4,5,6,8]\n",
        "result = list(myfilter(even_check , a))\n",
        "print(result)\n",
        "\n"
      ],
      "execution_count": 22,
      "outputs": [
        {
          "output_type": "stream",
          "text": [
            "[2, 4, 6, 8]\n"
          ],
          "name": "stdout"
        }
      ]
    },
    {
      "cell_type": "markdown",
      "metadata": {
        "id": "uhm9V4OQ_SZN",
        "colab_type": "text"
      },
      "source": [
        "# 3\n",
        ">>## Implement List comprehensions to produce the following lists.\n",
        ">>## Write List comprehensions to produce the following Lists\n",
        "\n",
        "\n",
        "\n",
        "\n",
        "```\n",
        "1. ['x', 'xx', 'xxx', 'xxxx', 'y', 'yy', 'yyy', 'yyyy', 'z', 'zz', 'zzz', 'zzzz']\n",
        "\n",
        "2. ['x', 'y', 'z', 'xx', 'yy', 'zz', 'xxx', 'yyy', 'zzz', 'xxxx', 'yyyy', 'zzzz']\n",
        "\n",
        "3. [[2], [3], [4], [3], [4], [5], [4], [5], [6]]\n",
        "\n",
        "4. [[2, 3, 4, 5], [3, 4, 5, 6],[4, 5, 6, 7], [5, 6, 7, 8]]\n",
        "\n",
        "5. [(1, 1), (2, 1), (3, 1), (1, 2), (2, 2), (3, 2), (1, 3), (2, 3), (3, 3)]\n",
        "\n",
        "```\n",
        "\n",
        "\n",
        "\n",
        "\n",
        "\n",
        "\n"
      ]
    },
    {
      "cell_type": "markdown",
      "metadata": {
        "id": "D78NRJ96Yh6j",
        "colab_type": "text"
      },
      "source": [
        "solution 3.1"
      ]
    },
    {
      "cell_type": "code",
      "metadata": {
        "id": "jmPiXOoA5-8h",
        "colab_type": "code",
        "outputId": "0c155ede-bc89-4938-f91b-d582f6140e2b",
        "colab": {
          "base_uri": "https://localhost:8080/",
          "height": 34
        }
      },
      "source": [
        "ls = [ i*j for i in ['x','y','z'] for j in range(1,5)] #final\n",
        "print(ls)"
      ],
      "execution_count": 0,
      "outputs": [
        {
          "output_type": "stream",
          "text": [
            "['x', 'xx', 'xxx', 'xxxx', 'y', 'yy', 'yyy', 'yyyy', 'z', 'zz', 'zzz', 'zzzz']\n"
          ],
          "name": "stdout"
        }
      ]
    },
    {
      "cell_type": "markdown",
      "metadata": {
        "id": "w2kUdCMYY1VS",
        "colab_type": "text"
      },
      "source": [
        "solution 3.2"
      ]
    },
    {
      "cell_type": "code",
      "metadata": {
        "id": "06TzlWDH8h-I",
        "colab_type": "code",
        "outputId": "e308286b-7c18-4147-8fd0-a308235de44d",
        "colab": {
          "base_uri": "https://localhost:8080/",
          "height": 34
        }
      },
      "source": [
        "ls = [ i*j for i in range(1,5) for j in ['x' , 'y' ,'z']] #final\n",
        "print(ls)"
      ],
      "execution_count": 0,
      "outputs": [
        {
          "output_type": "stream",
          "text": [
            "['x', 'y', 'z', 'xx', 'yy', 'zz', 'xxx', 'yyy', 'zzz', 'xxxx', 'yyyy', 'zzzz']\n"
          ],
          "name": "stdout"
        }
      ]
    },
    {
      "cell_type": "markdown",
      "metadata": {
        "id": "YSaSfZzpZqZz",
        "colab_type": "text"
      },
      "source": [
        "solution 3.3"
      ]
    },
    {
      "cell_type": "code",
      "metadata": {
        "id": "pE6L6QezkCWT",
        "colab_type": "code",
        "outputId": "b3662913-d2fc-49dd-9467-1060864ea023",
        "colab": {
          "base_uri": "https://localhost:8080/",
          "height": 34
        }
      },
      "source": [
        "ls = [[j] for i in range(2,5) for j in range(i , i+3)]#FINAL\n",
        "ls"
      ],
      "execution_count": 0,
      "outputs": [
        {
          "output_type": "execute_result",
          "data": {
            "text/plain": [
              "[[2], [3], [4], [3], [4], [5], [4], [5], [6]]"
            ]
          },
          "metadata": {
            "tags": []
          },
          "execution_count": 49
        }
      ]
    },
    {
      "cell_type": "markdown",
      "metadata": {
        "id": "V8gzng7TZ5cj",
        "colab_type": "text"
      },
      "source": [
        "solution 3.4"
      ]
    },
    {
      "cell_type": "code",
      "metadata": {
        "id": "HdxbwvacpCLc",
        "colab_type": "code",
        "outputId": "affcfe45-81b8-4228-b589-0595d512b069",
        "colab": {
          "base_uri": "https://localhost:8080/",
          "height": 35
        }
      },
      "source": [
        "lss = [[ j for j in range(i , i+4)] for i in range(2,6)]#final\n",
        "print(lss)"
      ],
      "execution_count": 24,
      "outputs": [
        {
          "output_type": "stream",
          "text": [
            "[[2, 3, 4, 5], [3, 4, 5, 6], [4, 5, 6, 7], [5, 6, 7, 8]]\n"
          ],
          "name": "stdout"
        }
      ]
    },
    {
      "cell_type": "markdown",
      "metadata": {
        "id": "SyVYDrwgZZ_I",
        "colab_type": "text"
      },
      "source": [
        "solution 3.5"
      ]
    },
    {
      "cell_type": "code",
      "metadata": {
        "id": "cniDhhmUFQTG",
        "colab_type": "code",
        "colab": {
          "base_uri": "https://localhost:8080/",
          "height": 35
        },
        "outputId": "67e58e0b-b7b7-47a6-f8a3-cb489d3a754b"
      },
      "source": [
        "ls = [ (j,i)for i in range(1,4) for j in range(1,4)] #FINAL\n",
        "print(ls)"
      ],
      "execution_count": 26,
      "outputs": [
        {
          "output_type": "stream",
          "text": [
            "[(1, 1), (2, 1), (3, 1), (1, 2), (2, 2), (3, 2), (1, 3), (2, 3), (3, 3)]\n"
          ],
          "name": "stdout"
        }
      ]
    }
  ]
}